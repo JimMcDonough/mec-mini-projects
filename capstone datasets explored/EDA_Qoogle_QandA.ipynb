{
 "cells": [
  {
   "cell_type": "code",
   "execution_count": 20,
   "id": "83d1ebbe",
   "metadata": {},
   "outputs": [
    {
     "name": "stdout",
     "output_type": "stream",
     "text": [
      "Populating the interactive namespace from numpy and matplotlib\n"
     ]
    }
   ],
   "source": [
    "%pylab inline\n",
    "import pandas as pd\n",
    "import seaborn"
   ]
  },
  {
   "cell_type": "code",
   "execution_count": 5,
   "id": "08a8d8fc",
   "metadata": {},
   "outputs": [],
   "source": [
    "path = r\"C:\\Users\\jimmc\\Documents\\UCSD_Bootcamp\\Capstone\\Google_quest_QandA\\train.csv\".replace('\\\\','/')\n",
    "data = pd.read_csv(path)"
   ]
  },
  {
   "cell_type": "code",
   "execution_count": 6,
   "id": "b26e9b19",
   "metadata": {},
   "outputs": [
    {
     "data": {
      "text/html": [
       "<div>\n",
       "<style scoped>\n",
       "    .dataframe tbody tr th:only-of-type {\n",
       "        vertical-align: middle;\n",
       "    }\n",
       "\n",
       "    .dataframe tbody tr th {\n",
       "        vertical-align: top;\n",
       "    }\n",
       "\n",
       "    .dataframe thead th {\n",
       "        text-align: right;\n",
       "    }\n",
       "</style>\n",
       "<table border=\"1\" class=\"dataframe\">\n",
       "  <thead>\n",
       "    <tr style=\"text-align: right;\">\n",
       "      <th></th>\n",
       "      <th>qa_id</th>\n",
       "      <th>question_title</th>\n",
       "      <th>question_body</th>\n",
       "      <th>question_user_name</th>\n",
       "      <th>question_user_page</th>\n",
       "      <th>answer</th>\n",
       "      <th>answer_user_name</th>\n",
       "      <th>answer_user_page</th>\n",
       "      <th>url</th>\n",
       "      <th>category</th>\n",
       "      <th>...</th>\n",
       "      <th>question_well_written</th>\n",
       "      <th>answer_helpful</th>\n",
       "      <th>answer_level_of_information</th>\n",
       "      <th>answer_plausible</th>\n",
       "      <th>answer_relevance</th>\n",
       "      <th>answer_satisfaction</th>\n",
       "      <th>answer_type_instructions</th>\n",
       "      <th>answer_type_procedure</th>\n",
       "      <th>answer_type_reason_explanation</th>\n",
       "      <th>answer_well_written</th>\n",
       "    </tr>\n",
       "  </thead>\n",
       "  <tbody>\n",
       "    <tr>\n",
       "      <th>0</th>\n",
       "      <td>0</td>\n",
       "      <td>What am I losing when using extension tubes in...</td>\n",
       "      <td>After playing around with macro photography on...</td>\n",
       "      <td>ysap</td>\n",
       "      <td>https://photo.stackexchange.com/users/1024</td>\n",
       "      <td>I just got extension tubes, so here's the skin...</td>\n",
       "      <td>rfusca</td>\n",
       "      <td>https://photo.stackexchange.com/users/1917</td>\n",
       "      <td>http://photo.stackexchange.com/questions/9169/...</td>\n",
       "      <td>LIFE_ARTS</td>\n",
       "      <td>...</td>\n",
       "      <td>1.000000</td>\n",
       "      <td>1.000000</td>\n",
       "      <td>0.666667</td>\n",
       "      <td>1.000000</td>\n",
       "      <td>1.000000</td>\n",
       "      <td>0.800000</td>\n",
       "      <td>1.0</td>\n",
       "      <td>0.000000</td>\n",
       "      <td>0.000000</td>\n",
       "      <td>1.000000</td>\n",
       "    </tr>\n",
       "    <tr>\n",
       "      <th>1</th>\n",
       "      <td>1</td>\n",
       "      <td>What is the distinction between a city and a s...</td>\n",
       "      <td>I am trying to understand what kinds of places...</td>\n",
       "      <td>russellpierce</td>\n",
       "      <td>https://rpg.stackexchange.com/users/8774</td>\n",
       "      <td>It might be helpful to look into the definitio...</td>\n",
       "      <td>Erik Schmidt</td>\n",
       "      <td>https://rpg.stackexchange.com/users/1871</td>\n",
       "      <td>http://rpg.stackexchange.com/questions/47820/w...</td>\n",
       "      <td>CULTURE</td>\n",
       "      <td>...</td>\n",
       "      <td>0.888889</td>\n",
       "      <td>0.888889</td>\n",
       "      <td>0.555556</td>\n",
       "      <td>0.888889</td>\n",
       "      <td>0.888889</td>\n",
       "      <td>0.666667</td>\n",
       "      <td>0.0</td>\n",
       "      <td>0.000000</td>\n",
       "      <td>0.666667</td>\n",
       "      <td>0.888889</td>\n",
       "    </tr>\n",
       "    <tr>\n",
       "      <th>2</th>\n",
       "      <td>2</td>\n",
       "      <td>Maximum protusion length for through-hole comp...</td>\n",
       "      <td>I'm working on a PCB that has through-hole com...</td>\n",
       "      <td>Joe Baker</td>\n",
       "      <td>https://electronics.stackexchange.com/users/10157</td>\n",
       "      <td>Do you even need grooves?  We make several pro...</td>\n",
       "      <td>Dwayne Reid</td>\n",
       "      <td>https://electronics.stackexchange.com/users/64754</td>\n",
       "      <td>http://electronics.stackexchange.com/questions...</td>\n",
       "      <td>SCIENCE</td>\n",
       "      <td>...</td>\n",
       "      <td>0.777778</td>\n",
       "      <td>0.777778</td>\n",
       "      <td>0.555556</td>\n",
       "      <td>1.000000</td>\n",
       "      <td>1.000000</td>\n",
       "      <td>0.666667</td>\n",
       "      <td>0.0</td>\n",
       "      <td>0.333333</td>\n",
       "      <td>1.000000</td>\n",
       "      <td>0.888889</td>\n",
       "    </tr>\n",
       "    <tr>\n",
       "      <th>3</th>\n",
       "      <td>3</td>\n",
       "      <td>Can an affidavit be used in Beit Din?</td>\n",
       "      <td>An affidavit, from what i understand, is basic...</td>\n",
       "      <td>Scimonster</td>\n",
       "      <td>https://judaism.stackexchange.com/users/5151</td>\n",
       "      <td>Sending an \"affidavit\" it is a dispute between...</td>\n",
       "      <td>Y     e     z</td>\n",
       "      <td>https://judaism.stackexchange.com/users/4794</td>\n",
       "      <td>http://judaism.stackexchange.com/questions/551...</td>\n",
       "      <td>CULTURE</td>\n",
       "      <td>...</td>\n",
       "      <td>0.888889</td>\n",
       "      <td>0.833333</td>\n",
       "      <td>0.333333</td>\n",
       "      <td>0.833333</td>\n",
       "      <td>1.000000</td>\n",
       "      <td>0.800000</td>\n",
       "      <td>0.0</td>\n",
       "      <td>0.000000</td>\n",
       "      <td>1.000000</td>\n",
       "      <td>1.000000</td>\n",
       "    </tr>\n",
       "    <tr>\n",
       "      <th>4</th>\n",
       "      <td>5</td>\n",
       "      <td>How do you make a binary image in Photoshop?</td>\n",
       "      <td>I am trying to make a binary image. I want mor...</td>\n",
       "      <td>leigero</td>\n",
       "      <td>https://graphicdesign.stackexchange.com/users/...</td>\n",
       "      <td>Check out Image Trace in Adobe Illustrator. \\n...</td>\n",
       "      <td>q2ra</td>\n",
       "      <td>https://graphicdesign.stackexchange.com/users/...</td>\n",
       "      <td>http://graphicdesign.stackexchange.com/questio...</td>\n",
       "      <td>LIFE_ARTS</td>\n",
       "      <td>...</td>\n",
       "      <td>1.000000</td>\n",
       "      <td>1.000000</td>\n",
       "      <td>0.666667</td>\n",
       "      <td>1.000000</td>\n",
       "      <td>1.000000</td>\n",
       "      <td>0.800000</td>\n",
       "      <td>1.0</td>\n",
       "      <td>0.000000</td>\n",
       "      <td>1.000000</td>\n",
       "      <td>1.000000</td>\n",
       "    </tr>\n",
       "  </tbody>\n",
       "</table>\n",
       "<p>5 rows × 41 columns</p>\n",
       "</div>"
      ],
      "text/plain": [
       "   qa_id                                     question_title  \\\n",
       "0      0  What am I losing when using extension tubes in...   \n",
       "1      1  What is the distinction between a city and a s...   \n",
       "2      2  Maximum protusion length for through-hole comp...   \n",
       "3      3              Can an affidavit be used in Beit Din?   \n",
       "4      5       How do you make a binary image in Photoshop?   \n",
       "\n",
       "                                       question_body question_user_name  \\\n",
       "0  After playing around with macro photography on...               ysap   \n",
       "1  I am trying to understand what kinds of places...      russellpierce   \n",
       "2  I'm working on a PCB that has through-hole com...          Joe Baker   \n",
       "3  An affidavit, from what i understand, is basic...         Scimonster   \n",
       "4  I am trying to make a binary image. I want mor...            leigero   \n",
       "\n",
       "                                  question_user_page  \\\n",
       "0         https://photo.stackexchange.com/users/1024   \n",
       "1           https://rpg.stackexchange.com/users/8774   \n",
       "2  https://electronics.stackexchange.com/users/10157   \n",
       "3       https://judaism.stackexchange.com/users/5151   \n",
       "4  https://graphicdesign.stackexchange.com/users/...   \n",
       "\n",
       "                                              answer answer_user_name  \\\n",
       "0  I just got extension tubes, so here's the skin...           rfusca   \n",
       "1  It might be helpful to look into the definitio...     Erik Schmidt   \n",
       "2  Do you even need grooves?  We make several pro...      Dwayne Reid   \n",
       "3  Sending an \"affidavit\" it is a dispute between...    Y     e     z   \n",
       "4  Check out Image Trace in Adobe Illustrator. \\n...             q2ra   \n",
       "\n",
       "                                    answer_user_page  \\\n",
       "0         https://photo.stackexchange.com/users/1917   \n",
       "1           https://rpg.stackexchange.com/users/1871   \n",
       "2  https://electronics.stackexchange.com/users/64754   \n",
       "3       https://judaism.stackexchange.com/users/4794   \n",
       "4  https://graphicdesign.stackexchange.com/users/...   \n",
       "\n",
       "                                                 url   category  ...  \\\n",
       "0  http://photo.stackexchange.com/questions/9169/...  LIFE_ARTS  ...   \n",
       "1  http://rpg.stackexchange.com/questions/47820/w...    CULTURE  ...   \n",
       "2  http://electronics.stackexchange.com/questions...    SCIENCE  ...   \n",
       "3  http://judaism.stackexchange.com/questions/551...    CULTURE  ...   \n",
       "4  http://graphicdesign.stackexchange.com/questio...  LIFE_ARTS  ...   \n",
       "\n",
       "  question_well_written  answer_helpful  answer_level_of_information  \\\n",
       "0              1.000000        1.000000                     0.666667   \n",
       "1              0.888889        0.888889                     0.555556   \n",
       "2              0.777778        0.777778                     0.555556   \n",
       "3              0.888889        0.833333                     0.333333   \n",
       "4              1.000000        1.000000                     0.666667   \n",
       "\n",
       "   answer_plausible  answer_relevance  answer_satisfaction  \\\n",
       "0          1.000000          1.000000             0.800000   \n",
       "1          0.888889          0.888889             0.666667   \n",
       "2          1.000000          1.000000             0.666667   \n",
       "3          0.833333          1.000000             0.800000   \n",
       "4          1.000000          1.000000             0.800000   \n",
       "\n",
       "   answer_type_instructions  answer_type_procedure  \\\n",
       "0                       1.0               0.000000   \n",
       "1                       0.0               0.000000   \n",
       "2                       0.0               0.333333   \n",
       "3                       0.0               0.000000   \n",
       "4                       1.0               0.000000   \n",
       "\n",
       "   answer_type_reason_explanation  answer_well_written  \n",
       "0                        0.000000             1.000000  \n",
       "1                        0.666667             0.888889  \n",
       "2                        1.000000             0.888889  \n",
       "3                        1.000000             1.000000  \n",
       "4                        1.000000             1.000000  \n",
       "\n",
       "[5 rows x 41 columns]"
      ]
     },
     "execution_count": 6,
     "metadata": {},
     "output_type": "execute_result"
    }
   ],
   "source": [
    "data.head()"
   ]
  },
  {
   "cell_type": "code",
   "execution_count": 8,
   "id": "053ebd46",
   "metadata": {},
   "outputs": [
    {
     "data": {
      "text/plain": [
       "(6079, 41)"
      ]
     },
     "execution_count": 8,
     "metadata": {},
     "output_type": "execute_result"
    }
   ],
   "source": [
    "data.shape"
   ]
  },
  {
   "cell_type": "code",
   "execution_count": 15,
   "id": "4bd0e811",
   "metadata": {},
   "outputs": [
    {
     "data": {
      "text/plain": [
       "6079"
      ]
     },
     "execution_count": 15,
     "metadata": {},
     "output_type": "execute_result"
    }
   ],
   "source": [
    "#Testing for unique qa_ids; yes they are based on data shape parameters\n",
    "len(data.groupby(['qa_id']).size())"
   ]
  },
  {
   "cell_type": "code",
   "execution_count": 12,
   "id": "0c27c41d",
   "metadata": {},
   "outputs": [
    {
     "name": "stdout",
     "output_type": "stream",
     "text": [
      "<class 'pandas.core.frame.DataFrame'>\n",
      "RangeIndex: 6079 entries, 0 to 6078\n",
      "Data columns (total 41 columns):\n",
      " #   Column                                 Non-Null Count  Dtype  \n",
      "---  ------                                 --------------  -----  \n",
      " 0   qa_id                                  6079 non-null   int64  \n",
      " 1   question_title                         6079 non-null   object \n",
      " 2   question_body                          6079 non-null   object \n",
      " 3   question_user_name                     6079 non-null   object \n",
      " 4   question_user_page                     6079 non-null   object \n",
      " 5   answer                                 6079 non-null   object \n",
      " 6   answer_user_name                       6079 non-null   object \n",
      " 7   answer_user_page                       6079 non-null   object \n",
      " 8   url                                    6079 non-null   object \n",
      " 9   category                               6079 non-null   object \n",
      " 10  host                                   6079 non-null   object \n",
      " 11  question_asker_intent_understanding    6079 non-null   float64\n",
      " 12  question_body_critical                 6079 non-null   float64\n",
      " 13  question_conversational                6079 non-null   float64\n",
      " 14  question_expect_short_answer           6079 non-null   float64\n",
      " 15  question_fact_seeking                  6079 non-null   float64\n",
      " 16  question_has_commonly_accepted_answer  6079 non-null   float64\n",
      " 17  question_interestingness_others        6079 non-null   float64\n",
      " 18  question_interestingness_self          6079 non-null   float64\n",
      " 19  question_multi_intent                  6079 non-null   float64\n",
      " 20  question_not_really_a_question         6079 non-null   float64\n",
      " 21  question_opinion_seeking               6079 non-null   float64\n",
      " 22  question_type_choice                   6079 non-null   float64\n",
      " 23  question_type_compare                  6079 non-null   float64\n",
      " 24  question_type_consequence              6079 non-null   float64\n",
      " 25  question_type_definition               6079 non-null   float64\n",
      " 26  question_type_entity                   6079 non-null   float64\n",
      " 27  question_type_instructions             6079 non-null   float64\n",
      " 28  question_type_procedure                6079 non-null   float64\n",
      " 29  question_type_reason_explanation       6079 non-null   float64\n",
      " 30  question_type_spelling                 6079 non-null   float64\n",
      " 31  question_well_written                  6079 non-null   float64\n",
      " 32  answer_helpful                         6079 non-null   float64\n",
      " 33  answer_level_of_information            6079 non-null   float64\n",
      " 34  answer_plausible                       6079 non-null   float64\n",
      " 35  answer_relevance                       6079 non-null   float64\n",
      " 36  answer_satisfaction                    6079 non-null   float64\n",
      " 37  answer_type_instructions               6079 non-null   float64\n",
      " 38  answer_type_procedure                  6079 non-null   float64\n",
      " 39  answer_type_reason_explanation         6079 non-null   float64\n",
      " 40  answer_well_written                    6079 non-null   float64\n",
      "dtypes: float64(30), int64(1), object(10)\n",
      "memory usage: 1.9+ MB\n"
     ]
    }
   ],
   "source": [
    "data.info()"
   ]
  },
  {
   "cell_type": "code",
   "execution_count": 17,
   "id": "6714cf74",
   "metadata": {},
   "outputs": [
    {
     "data": {
      "text/plain": [
       "'http://photo.stackexchange.com/questions/9169/what-am-i-losing-when-using-extension-tubes-instead-of-a-macro-lens'"
      ]
     },
     "execution_count": 17,
     "metadata": {},
     "output_type": "execute_result"
    }
   ],
   "source": [
    "data.url[0]"
   ]
  },
  {
   "cell_type": "code",
   "execution_count": 19,
   "id": "8d3d80c4",
   "metadata": {},
   "outputs": [
    {
     "data": {
      "text/plain": [
       "category\n",
       "CULTURE           963\n",
       "LIFE_ARTS         709\n",
       "SCIENCE           713\n",
       "STACKOVERFLOW    1253\n",
       "TECHNOLOGY       2441\n",
       "dtype: int64"
      ]
     },
     "execution_count": 19,
     "metadata": {},
     "output_type": "execute_result"
    }
   ],
   "source": [
    "#Unbalanced question category?  \n",
    "data.groupby(['category']).size()"
   ]
  },
  {
   "cell_type": "code",
   "execution_count": null,
   "id": "5de77769",
   "metadata": {},
   "outputs": [],
   "source": [
    "#EDA For question body"
   ]
  },
  {
   "cell_type": "code",
   "execution_count": 21,
   "id": "28edfb7e",
   "metadata": {},
   "outputs": [
    {
     "data": {
      "text/plain": [
       "count                                                  6079\n",
       "unique                                                 3583\n",
       "top       Which is the best introductory textbook for Ba...\n",
       "freq                                                     12\n",
       "Name: question_body, dtype: object"
      ]
     },
     "execution_count": 21,
     "metadata": {},
     "output_type": "execute_result"
    }
   ],
   "source": [
    "data['question_body'].describe()"
   ]
  },
  {
   "cell_type": "code",
   "execution_count": 24,
   "id": "ae15748c",
   "metadata": {},
   "outputs": [
    {
     "data": {
      "text/plain": [
       "count     6079.000000\n",
       "mean       833.760487\n",
       "std       1029.046986\n",
       "min          1.000000\n",
       "25%        323.000000\n",
       "50%        544.000000\n",
       "75%        969.500000\n",
       "max      19253.000000\n",
       "Name: question_body, dtype: float64"
      ]
     },
     "execution_count": 24,
     "metadata": {},
     "output_type": "execute_result"
    }
   ],
   "source": [
    "data['question_body'].str.len().describe()"
   ]
  },
  {
   "cell_type": "code",
   "execution_count": 28,
   "id": "92f1d809",
   "metadata": {},
   "outputs": [
    {
     "data": {
      "text/plain": [
       "1297    \\n\n",
       "2748    \\n\n",
       "Name: question_body, dtype: object"
      ]
     },
     "execution_count": 28,
     "metadata": {},
     "output_type": "execute_result"
    }
   ],
   "source": [
    "data['question_body'][data['question_body'].str.len() == 1]"
   ]
  },
  {
   "cell_type": "code",
   "execution_count": 26,
   "id": "940df815",
   "metadata": {},
   "outputs": [
    {
     "data": {
      "text/plain": [
       "3531    I'm attempting to set up a config file for Mul...\n",
       "5081    I'm attempting to set up a config file for Mul...\n",
       "Name: question_body, dtype: object"
      ]
     },
     "execution_count": 26,
     "metadata": {},
     "output_type": "execute_result"
    }
   ],
   "source": [
    "data['question_body'][data['question_body'].str.len() == 19253]"
   ]
  },
  {
   "cell_type": "code",
   "execution_count": 34,
   "id": "0611a40b",
   "metadata": {},
   "outputs": [
    {
     "data": {
      "text/plain": [
       "0"
      ]
     },
     "execution_count": 34,
     "metadata": {},
     "output_type": "execute_result"
    }
   ],
   "source": [
    "len(data['question_body'][data['question_body'].isnull()])"
   ]
  },
  {
   "cell_type": "markdown",
   "id": "775b0e2c",
   "metadata": {},
   "source": [
    "Question Title EDA"
   ]
  },
  {
   "cell_type": "code",
   "execution_count": 29,
   "id": "288d554c",
   "metadata": {},
   "outputs": [
    {
     "data": {
      "text/plain": [
       "count                                                  6079\n",
       "unique                                                 3583\n",
       "top       What is the best introductory Bayesian statist...\n",
       "freq                                                     12\n",
       "Name: question_title, dtype: object"
      ]
     },
     "execution_count": 29,
     "metadata": {},
     "output_type": "execute_result"
    }
   ],
   "source": [
    "data['question_title'].describe()"
   ]
  },
  {
   "cell_type": "code",
   "execution_count": 30,
   "id": "5c880c65",
   "metadata": {},
   "outputs": [
    {
     "data": {
      "text/plain": [
       "count    6079.000000\n",
       "mean       53.310248\n",
       "std        20.205065\n",
       "min        15.000000\n",
       "25%        39.000000\n",
       "50%        50.000000\n",
       "75%        65.000000\n",
       "max       147.000000\n",
       "Name: question_title, dtype: float64"
      ]
     },
     "execution_count": 30,
     "metadata": {},
     "output_type": "execute_result"
    }
   ],
   "source": [
    "data['question_title'].str.len().describe()"
   ]
  },
  {
   "cell_type": "code",
   "execution_count": 31,
   "id": "49e742a2",
   "metadata": {},
   "outputs": [
    {
     "data": {
      "text/plain": [
       "1503    UNIX semaphores\n",
       "4196    UNIX semaphores\n",
       "4216    Sort ListBox C#\n",
       "4228    Tuples in LaTeX\n",
       "Name: question_title, dtype: object"
      ]
     },
     "execution_count": 31,
     "metadata": {},
     "output_type": "execute_result"
    }
   ],
   "source": [
    "data['question_title'][data['question_title'].str.len() == 15]"
   ]
  },
  {
   "cell_type": "code",
   "execution_count": 32,
   "id": "c85cd442",
   "metadata": {},
   "outputs": [
    {
     "data": {
      "text/plain": [
       "3609    How to draw a double-ended arrow between the n...\n",
       "3785    intersection between two multipolygons yieldin...\n",
       "Name: question_title, dtype: object"
      ]
     },
     "execution_count": 32,
     "metadata": {},
     "output_type": "execute_result"
    }
   ],
   "source": [
    "data['question_title'][data['question_title'].str.len() == 147]"
   ]
  },
  {
   "cell_type": "code",
   "execution_count": 35,
   "id": "4b23360c",
   "metadata": {},
   "outputs": [
    {
     "data": {
      "text/plain": [
       "0"
      ]
     },
     "execution_count": 35,
     "metadata": {},
     "output_type": "execute_result"
    }
   ],
   "source": [
    "len(data['question_title'][data['question_title'].isnull()])"
   ]
  },
  {
   "cell_type": "code",
   "execution_count": 36,
   "id": "e2c55982",
   "metadata": {},
   "outputs": [
    {
     "data": {
      "text/plain": [
       "count                                                  6079\n",
       "unique                                                 6079\n",
       "top       I'd be charging that battery in a purpose buil...\n",
       "freq                                                      1\n",
       "Name: answer, dtype: object"
      ]
     },
     "execution_count": 36,
     "metadata": {},
     "output_type": "execute_result"
    }
   ],
   "source": [
    "data['answer'].describe()"
   ]
  },
  {
   "cell_type": "code",
   "execution_count": 37,
   "id": "3b54e7a4",
   "metadata": {},
   "outputs": [
    {
     "data": {
      "text/plain": [
       "count     6079.000000\n",
       "mean       839.396776\n",
       "std       1017.388923\n",
       "min         21.000000\n",
       "25%        297.000000\n",
       "50%        556.000000\n",
       "75%       1015.500000\n",
       "max      22636.000000\n",
       "Name: answer, dtype: float64"
      ]
     },
     "execution_count": 37,
     "metadata": {},
     "output_type": "execute_result"
    }
   ],
   "source": [
    "data['answer'].str.len().describe()"
   ]
  },
  {
   "cell_type": "code",
   "execution_count": 39,
   "id": "a276a13c",
   "metadata": {},
   "outputs": [
    {
     "data": {
      "text/plain": [
       "3924    Not to my knowledge \\n\n",
       "Name: answer, dtype: object"
      ]
     },
     "execution_count": 39,
     "metadata": {},
     "output_type": "execute_result"
    }
   ],
   "source": [
    "data['answer'][data['answer'].str.len() == 21]"
   ]
  },
  {
   "cell_type": "code",
   "execution_count": 40,
   "id": "f5937e19",
   "metadata": {},
   "outputs": [
    {
     "data": {
      "text/plain": [
       "834    No. This hard-coded restriction exists for goo...\n",
       "Name: answer, dtype: object"
      ]
     },
     "execution_count": 40,
     "metadata": {},
     "output_type": "execute_result"
    }
   ],
   "source": [
    "data['answer'][data['answer'].str.len() == 22636]"
   ]
  },
  {
   "cell_type": "code",
   "execution_count": 41,
   "id": "da33d7ec",
   "metadata": {},
   "outputs": [
    {
     "data": {
      "text/plain": [
       "0"
      ]
     },
     "execution_count": 41,
     "metadata": {},
     "output_type": "execute_result"
    }
   ],
   "source": [
    "len(data['answer'][data['answer'].isnull()])"
   ]
  },
  {
   "cell_type": "code",
   "execution_count": null,
   "id": "551adee8",
   "metadata": {},
   "outputs": [],
   "source": [
    "hist(data.dom, bins=10,rwidth=.8, range=(0.5, 30.5))\n",
    "xlabel('date of the month')\n",
    "ylabel('frequency')\n",
    "title('Frequency by DoM')"
   ]
  },
  {
   "cell_type": "code",
   "execution_count": null,
   "id": "6265d5a3",
   "metadata": {},
   "outputs": [],
   "source": []
  }
 ],
 "metadata": {
  "kernelspec": {
   "display_name": "Python 3",
   "language": "python",
   "name": "python3"
  },
  "language_info": {
   "codemirror_mode": {
    "name": "ipython",
    "version": 3
   },
   "file_extension": ".py",
   "mimetype": "text/x-python",
   "name": "python",
   "nbconvert_exporter": "python",
   "pygments_lexer": "ipython3",
   "version": "3.9.5"
  }
 },
 "nbformat": 4,
 "nbformat_minor": 5
}
