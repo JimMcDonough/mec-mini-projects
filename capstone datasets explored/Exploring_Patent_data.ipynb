{
 "cells": [
  {
   "cell_type": "code",
   "execution_count": 1,
   "id": "9454ba50",
   "metadata": {},
   "outputs": [
    {
     "name": "stdout",
     "output_type": "stream",
     "text": [
      "Populating the interactive namespace from numpy and matplotlib\n"
     ]
    }
   ],
   "source": [
    "%pylab inline\n",
    "import pandas as pd\n",
    "import seaborn"
   ]
  },
  {
   "cell_type": "code",
   "execution_count": 2,
   "id": "df7764cc",
   "metadata": {},
   "outputs": [],
   "source": [
    "path = r\"C:\\Users\\jimmc\\Documents\\UCSD_Bootcamp\\Capstone\\Patent\\train.csv\".replace('\\\\','/')\n",
    "data = pd.read_csv(path)"
   ]
  },
  {
   "cell_type": "code",
   "execution_count": 3,
   "id": "9215682e",
   "metadata": {},
   "outputs": [
    {
     "data": {
      "text/html": [
       "<div>\n",
       "<style scoped>\n",
       "    .dataframe tbody tr th:only-of-type {\n",
       "        vertical-align: middle;\n",
       "    }\n",
       "\n",
       "    .dataframe tbody tr th {\n",
       "        vertical-align: top;\n",
       "    }\n",
       "\n",
       "    .dataframe thead th {\n",
       "        text-align: right;\n",
       "    }\n",
       "</style>\n",
       "<table border=\"1\" class=\"dataframe\">\n",
       "  <thead>\n",
       "    <tr style=\"text-align: right;\">\n",
       "      <th></th>\n",
       "      <th>id</th>\n",
       "      <th>anchor</th>\n",
       "      <th>target</th>\n",
       "      <th>context</th>\n",
       "      <th>score</th>\n",
       "    </tr>\n",
       "  </thead>\n",
       "  <tbody>\n",
       "    <tr>\n",
       "      <th>0</th>\n",
       "      <td>37d61fd2272659b1</td>\n",
       "      <td>abatement</td>\n",
       "      <td>abatement of pollution</td>\n",
       "      <td>A47</td>\n",
       "      <td>0.50</td>\n",
       "    </tr>\n",
       "    <tr>\n",
       "      <th>1</th>\n",
       "      <td>7b9652b17b68b7a4</td>\n",
       "      <td>abatement</td>\n",
       "      <td>act of abating</td>\n",
       "      <td>A47</td>\n",
       "      <td>0.75</td>\n",
       "    </tr>\n",
       "    <tr>\n",
       "      <th>2</th>\n",
       "      <td>36d72442aefd8232</td>\n",
       "      <td>abatement</td>\n",
       "      <td>active catalyst</td>\n",
       "      <td>A47</td>\n",
       "      <td>0.25</td>\n",
       "    </tr>\n",
       "    <tr>\n",
       "      <th>3</th>\n",
       "      <td>5296b0c19e1ce60e</td>\n",
       "      <td>abatement</td>\n",
       "      <td>eliminating process</td>\n",
       "      <td>A47</td>\n",
       "      <td>0.50</td>\n",
       "    </tr>\n",
       "    <tr>\n",
       "      <th>4</th>\n",
       "      <td>54c1e3b9184cb5b6</td>\n",
       "      <td>abatement</td>\n",
       "      <td>forest region</td>\n",
       "      <td>A47</td>\n",
       "      <td>0.00</td>\n",
       "    </tr>\n",
       "  </tbody>\n",
       "</table>\n",
       "</div>"
      ],
      "text/plain": [
       "                 id     anchor                  target context  score\n",
       "0  37d61fd2272659b1  abatement  abatement of pollution     A47   0.50\n",
       "1  7b9652b17b68b7a4  abatement          act of abating     A47   0.75\n",
       "2  36d72442aefd8232  abatement         active catalyst     A47   0.25\n",
       "3  5296b0c19e1ce60e  abatement     eliminating process     A47   0.50\n",
       "4  54c1e3b9184cb5b6  abatement           forest region     A47   0.00"
      ]
     },
     "execution_count": 3,
     "metadata": {},
     "output_type": "execute_result"
    }
   ],
   "source": [
    "data.head()"
   ]
  },
  {
   "cell_type": "code",
   "execution_count": 4,
   "id": "748ebd91",
   "metadata": {},
   "outputs": [
    {
     "data": {
      "text/plain": [
       "(36473, 5)"
      ]
     },
     "execution_count": 4,
     "metadata": {},
     "output_type": "execute_result"
    }
   ],
   "source": [
    "data.shape"
   ]
  },
  {
   "cell_type": "code",
   "execution_count": 5,
   "id": "5ba1f47b",
   "metadata": {},
   "outputs": [
    {
     "data": {
      "text/plain": [
       "36473"
      ]
     },
     "execution_count": 5,
     "metadata": {},
     "output_type": "execute_result"
    }
   ],
   "source": [
    "#Checking for unique id against shape; id looks to be unique\n",
    "len(data.groupby(['id']).size())"
   ]
  },
  {
   "cell_type": "code",
   "execution_count": 7,
   "id": "0cb72caf",
   "metadata": {},
   "outputs": [
    {
     "name": "stdout",
     "output_type": "stream",
     "text": [
      "<class 'pandas.core.frame.DataFrame'>\n",
      "RangeIndex: 36473 entries, 0 to 36472\n",
      "Data columns (total 5 columns):\n",
      " #   Column   Non-Null Count  Dtype  \n",
      "---  ------   --------------  -----  \n",
      " 0   id       36473 non-null  object \n",
      " 1   anchor   36473 non-null  object \n",
      " 2   target   36473 non-null  object \n",
      " 3   context  36473 non-null  object \n",
      " 4   score    36473 non-null  float64\n",
      "dtypes: float64(1), object(4)\n",
      "memory usage: 1.4+ MB\n"
     ]
    }
   ],
   "source": [
    "data.info()"
   ]
  },
  {
   "cell_type": "markdown",
   "id": "ef06b1a1",
   "metadata": {},
   "source": [
    "EDA anchor"
   ]
  },
  {
   "cell_type": "code",
   "execution_count": 23,
   "id": "386e1973",
   "metadata": {},
   "outputs": [
    {
     "data": {
      "text/plain": [
       "count                           36473\n",
       "unique                            733\n",
       "top       component composite coating\n",
       "freq                              152\n",
       "Name: anchor, dtype: object"
      ]
     },
     "execution_count": 23,
     "metadata": {},
     "output_type": "execute_result"
    }
   ],
   "source": [
    "data.anchor.describe()"
   ]
  },
  {
   "cell_type": "code",
   "execution_count": 8,
   "id": "3ef29ef6",
   "metadata": {},
   "outputs": [
    {
     "data": {
      "text/plain": [
       "anchor\n",
       "abatement                 49\n",
       "abnormal position         82\n",
       "absorbent properties      59\n",
       "acan                      23\n",
       "accept information        32\n",
       "                          ..\n",
       "well pump                 85\n",
       "whose identity            17\n",
       "wire grid polarization    73\n",
       "wiring trough             45\n",
       "wood article              56\n",
       "Length: 733, dtype: int64"
      ]
     },
     "execution_count": 8,
     "metadata": {},
     "output_type": "execute_result"
    }
   ],
   "source": [
    "data.groupby(['anchor']).size()"
   ]
  },
  {
   "cell_type": "code",
   "execution_count": 10,
   "id": "1e95724b",
   "metadata": {},
   "outputs": [
    {
     "data": {
      "text/plain": [
       "anchor         context\n",
       "abatement      A47        21\n",
       "               A61         3\n",
       "               A62         1\n",
       "               C01         1\n",
       "               F16         1\n",
       "                          ..\n",
       "wiring trough  F16        27\n",
       "               H02        18\n",
       "wood article   B05        28\n",
       "               B27         1\n",
       "               B44        27\n",
       "Length: 1699, dtype: int64"
      ]
     },
     "execution_count": 10,
     "metadata": {},
     "output_type": "execute_result"
    }
   ],
   "source": [
    "data.groupby(['anchor','context']).size()"
   ]
  },
  {
   "cell_type": "code",
   "execution_count": 11,
   "id": "3c70b6fe",
   "metadata": {},
   "outputs": [
    {
     "data": {
      "text/plain": [
       "anchor        score\n",
       "abatement     0.00     13\n",
       "              0.25     12\n",
       "              0.50     22\n",
       "              0.75      1\n",
       "              1.00      1\n",
       "                       ..\n",
       "wood article  0.00     14\n",
       "              0.25     15\n",
       "              0.50     14\n",
       "              0.75      9\n",
       "              1.00      4\n",
       "Length: 3333, dtype: int64"
      ]
     },
     "execution_count": 11,
     "metadata": {},
     "output_type": "execute_result"
    }
   ],
   "source": [
    "data.groupby(['anchor','score']).size()"
   ]
  },
  {
   "cell_type": "code",
   "execution_count": 20,
   "id": "dfcb3bd7",
   "metadata": {},
   "outputs": [
    {
     "data": {
      "text/plain": [
       "anchor        context  score\n",
       "abatement     A47      0.00     6\n",
       "                       0.25     6\n",
       "                       0.50     8\n",
       "                       0.75     1\n",
       "              A61      0.25     1\n",
       "                               ..\n",
       "wood article  B44      0.00     6\n",
       "                       0.25     7\n",
       "                       0.50     7\n",
       "                       0.75     5\n",
       "                       1.00     2\n",
       "Length: 6191, dtype: int64"
      ]
     },
     "execution_count": 20,
     "metadata": {},
     "output_type": "execute_result"
    }
   ],
   "source": [
    "data.groupby(['anchor','context','score']).size()"
   ]
  },
  {
   "cell_type": "markdown",
   "id": "0f54020c",
   "metadata": {},
   "source": [
    "#EDA Score"
   ]
  },
  {
   "cell_type": "code",
   "execution_count": 16,
   "id": "3d765d18",
   "metadata": {},
   "outputs": [
    {
     "data": {
      "text/plain": [
       "Text(0.5, 1.0, 'Frequency by Score')"
      ]
     },
     "execution_count": 16,
     "metadata": {},
     "output_type": "execute_result"
    },
    {
     "data": {
      "image/png": "[encoded data removed]",
      "text/plain": [
       "<Figure size 432x288 with 1 Axes>"
      ]
     },
     "metadata": {
      "needs_background": "light"
     },
     "output_type": "display_data"
    }
   ],
   "source": [
    "hist(data.score, bins=5,rwidth=.8, range=(0.0, 1.0))\n",
    "xlabel('Score')\n",
    "ylabel('frequency')\n",
    "title('Frequency by Score')"
   ]
  },
  {
   "cell_type": "code",
   "execution_count": 21,
   "id": "46b6039c",
   "metadata": {},
   "outputs": [
    {
     "data": {
      "text/plain": [
       "count    36473.000000\n",
       "mean         0.362062\n",
       "std          0.258335\n",
       "min          0.000000\n",
       "25%          0.250000\n",
       "50%          0.250000\n",
       "75%          0.500000\n",
       "max          1.000000\n",
       "Name: score, dtype: float64"
      ]
     },
     "execution_count": 21,
     "metadata": {},
     "output_type": "execute_result"
    }
   ],
   "source": [
    "data.score.describe()"
   ]
  },
  {
   "cell_type": "markdown",
   "id": "474d48df",
   "metadata": {},
   "source": [
    "EDA context"
   ]
  },
  {
   "cell_type": "code",
   "execution_count": 22,
   "id": "b608f5e3",
   "metadata": {},
   "outputs": [
    {
     "data": {
      "text/plain": [
       "count     36473\n",
       "unique      106\n",
       "top         H01\n",
       "freq       2186\n",
       "Name: context, dtype: object"
      ]
     },
     "execution_count": 22,
     "metadata": {},
     "output_type": "execute_result"
    }
   ],
   "source": [
    "data.context.describe()"
   ]
  },
  {
   "cell_type": "code",
   "execution_count": 24,
   "id": "a29622bd",
   "metadata": {},
   "outputs": [
    {
     "data": {
      "text/plain": [
       "context\n",
       "A01     637\n",
       "A21      88\n",
       "A22      70\n",
       "A23     102\n",
       "A24      75\n",
       "       ... \n",
       "H01    2186\n",
       "H02     536\n",
       "H03     798\n",
       "H04    2177\n",
       "H05     498\n",
       "Length: 106, dtype: int64"
      ]
     },
     "execution_count": 24,
     "metadata": {},
     "output_type": "execute_result"
    }
   ],
   "source": [
    "data.groupby('context').size()"
   ]
  },
  {
   "cell_type": "code",
   "execution_count": 25,
   "id": "dc598c56",
   "metadata": {},
   "outputs": [
    {
     "data": {
      "text/plain": [
       "context  score\n",
       "A01      0.00     127\n",
       "         0.25     189\n",
       "         0.50     228\n",
       "         0.75      80\n",
       "         1.00      13\n",
       "                 ... \n",
       "H05      0.00     110\n",
       "         0.25     178\n",
       "         0.50     128\n",
       "         0.75      64\n",
       "         1.00      18\n",
       "Length: 520, dtype: int64"
      ]
     },
     "execution_count": 25,
     "metadata": {},
     "output_type": "execute_result"
    }
   ],
   "source": [
    "data.groupby(['context','score']).size()"
   ]
  },
  {
   "cell_type": "code",
   "execution_count": null,
   "id": "2ae4c629",
   "metadata": {},
   "outputs": [],
   "source": []
  }
 ],
 "metadata": {
  "kernelspec": {
   "display_name": "Python 3",
   "language": "python",
   "name": "python3"
  },
  "language_info": {
   "codemirror_mode": {
    "name": "ipython",
    "version": 3
   },
   "file_extension": ".py",
   "mimetype": "text/x-python",
   "name": "python",
   "nbconvert_exporter": "python",
   "pygments_lexer": "ipython3",
   "version": "3.9.5"
  }
 },
 "nbformat": 4,
 "nbformat_minor": 5
}
